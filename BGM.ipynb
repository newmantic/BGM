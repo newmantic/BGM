{
  "nbformat": 4,
  "nbformat_minor": 0,
  "metadata": {
    "colab": {
      "provenance": [],
      "authorship_tag": "ABX9TyNh1KsU1ln67Dy9VFBHWgJ4",
      "include_colab_link": true
    },
    "kernelspec": {
      "name": "python3",
      "display_name": "Python 3"
    },
    "language_info": {
      "name": "python"
    }
  },
  "cells": [
    {
      "cell_type": "markdown",
      "metadata": {
        "id": "view-in-github",
        "colab_type": "text"
      },
      "source": [
        "<a href=\"https://colab.research.google.com/github/newmantic/BGM/blob/main/BGM.ipynb\" target=\"_parent\"><img src=\"https://colab.research.google.com/assets/colab-badge.svg\" alt=\"Open In Colab\"/></a>"
      ]
    },
    {
      "cell_type": "code",
      "execution_count": 1,
      "metadata": {
        "colab": {
          "base_uri": "https://localhost:8080/"
        },
        "id": "rbTJr213zENz",
        "outputId": "2a6cec7c-ef83-421e-f029-b8212f9112e3"
      },
      "outputs": [
        {
          "output_type": "stream",
          "name": "stdout",
          "text": [
            "Simulated caplet price: $0.0043\n"
          ]
        }
      ],
      "source": [
        "import numpy as np\n",
        "\n",
        "# Model parameters\n",
        "T = 5  # Number of periods (e.g., 5 years)\n",
        "dt = 1.0  # Time step (1 year)\n",
        "forward_rate = 0.05  # Initial forward rate (5%)\n",
        "sigma = 0.2  # Volatility of the forward rate\n",
        "num_simulations = 10000  # Number of Monte Carlo simulations\n",
        "strike_rate = 0.06  # Strike rate of the caplet (6%)\n",
        "\n",
        "# Simulate forward rates using the BGM model\n",
        "np.random.seed(42)\n",
        "forward_rates = np.zeros((num_simulations, T))\n",
        "payoffs = np.zeros(num_simulations)\n",
        "\n",
        "for i in range(num_simulations):\n",
        "    f_t = forward_rate\n",
        "    for j in range(T):\n",
        "        dW = np.random.normal(0, np.sqrt(dt))  # Brownian motion increment\n",
        "        f_t = f_t + sigma * f_t * dW  # BGM model dynamics\n",
        "        forward_rates[i, j] = f_t\n",
        "    # Caplet payoff for the last period\n",
        "    payoff = max(forward_rates[i, -1] - strike_rate, 0)\n",
        "    payoffs[i] = payoff * np.exp(-forward_rate * T)  # Discounted payoff\n",
        "\n",
        "# Calculate the average payoff (price of the caplet)\n",
        "caplet_price = np.mean(payoffs)\n",
        "print(f\"Simulated caplet price: ${caplet_price:.4f}\")"
      ]
    }
  ]
}